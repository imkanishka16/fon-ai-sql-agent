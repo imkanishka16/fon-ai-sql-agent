{
 "cells": [
  {
   "cell_type": "code",
   "execution_count": 1,
   "metadata": {},
   "outputs": [],
   "source": [
    "import pandas as pd"
   ]
  },
  {
   "cell_type": "code",
   "execution_count": null,
   "metadata": {},
   "outputs": [],
   "source": [
    "df = pd.read_excel(\"Fonra_Pilot_Final.xlsx\" ,header=1)"
   ]
  },
  {
   "cell_type": "code",
   "execution_count": 3,
   "metadata": {},
   "outputs": [
    {
     "data": {
      "text/html": [
       "<div>\n",
       "<style scoped>\n",
       "    .dataframe tbody tr th:only-of-type {\n",
       "        vertical-align: middle;\n",
       "    }\n",
       "\n",
       "    .dataframe tbody tr th {\n",
       "        vertical-align: top;\n",
       "    }\n",
       "\n",
       "    .dataframe thead th {\n",
       "        text-align: right;\n",
       "    }\n",
       "</style>\n",
       "<table border=\"1\" class=\"dataframe\">\n",
       "  <thead>\n",
       "    <tr style=\"text-align: right;\">\n",
       "      <th></th>\n",
       "      <th>Regional_sales_manager</th>\n",
       "      <th>Area_Sales_Manager</th>\n",
       "      <th>Total_Base_of_80%_Contribution_outlets_assigned</th>\n",
       "      <th>Total_visits_in_ August</th>\n",
       "      <th>Total_visits_in_September</th>\n",
       "      <th>Total_visits_in_October</th>\n",
       "    </tr>\n",
       "  </thead>\n",
       "  <tbody>\n",
       "    <tr>\n",
       "      <th>0</th>\n",
       "      <td>HR</td>\n",
       "      <td>LAKMAL HETTIARACHCHI</td>\n",
       "      <td>575</td>\n",
       "      <td>188</td>\n",
       "      <td>182</td>\n",
       "      <td>185</td>\n",
       "    </tr>\n",
       "    <tr>\n",
       "      <th>1</th>\n",
       "      <td>HR</td>\n",
       "      <td>MOHAMMED RAUF</td>\n",
       "      <td>429</td>\n",
       "      <td>184</td>\n",
       "      <td>180</td>\n",
       "      <td>180</td>\n",
       "    </tr>\n",
       "    <tr>\n",
       "      <th>2</th>\n",
       "      <td>LM</td>\n",
       "      <td>NALEEN WIJESIRI</td>\n",
       "      <td>466</td>\n",
       "      <td>181</td>\n",
       "      <td>180</td>\n",
       "      <td>114</td>\n",
       "    </tr>\n",
       "    <tr>\n",
       "      <th>3</th>\n",
       "      <td>HP</td>\n",
       "      <td>PRAMUDITHA CHAMARA</td>\n",
       "      <td>333</td>\n",
       "      <td>182</td>\n",
       "      <td>180</td>\n",
       "      <td>180</td>\n",
       "    </tr>\n",
       "    <tr>\n",
       "      <th>4</th>\n",
       "      <td>LM</td>\n",
       "      <td>JASANTHA HETTIARACHCHI</td>\n",
       "      <td>234</td>\n",
       "      <td>191</td>\n",
       "      <td>198</td>\n",
       "      <td>182</td>\n",
       "    </tr>\n",
       "  </tbody>\n",
       "</table>\n",
       "</div>"
      ],
      "text/plain": [
       "  Regional_sales_manager      Area_Sales_Manager  \\\n",
       "0                     HR    LAKMAL HETTIARACHCHI   \n",
       "1                     HR           MOHAMMED RAUF   \n",
       "2                     LM         NALEEN WIJESIRI   \n",
       "3                     HP      PRAMUDITHA CHAMARA   \n",
       "4                     LM  JASANTHA HETTIARACHCHI   \n",
       "\n",
       "   Total_Base_of_80%_Contribution_outlets_assigned  Total_visits_in_ August  \\\n",
       "0                                              575                      188   \n",
       "1                                              429                      184   \n",
       "2                                              466                      181   \n",
       "3                                              333                      182   \n",
       "4                                              234                      191   \n",
       "\n",
       "   Total_visits_in_September  Total_visits_in_October  \n",
       "0                        182                      185  \n",
       "1                        180                      180  \n",
       "2                        180                      114  \n",
       "3                        180                      180  \n",
       "4                        198                      182  "
      ]
     },
     "execution_count": 3,
     "metadata": {},
     "output_type": "execute_result"
    }
   ],
   "source": [
    "df.head()"
   ]
  },
  {
   "cell_type": "code",
   "execution_count": 4,
   "metadata": {},
   "outputs": [
    {
     "name": "stdout",
     "output_type": "stream",
     "text": [
      "SQL file 'output.sql' generated successfully!\n"
     ]
    }
   ],
   "source": [
    "table_name = \"fonterra_pilot\"\n",
    "\n",
    "varchar_columns = [\"Area_Sales_Manager\", \"Regional_sales_manager\"]\n",
    "\n",
    "# Generate SQL\n",
    "with open(\"output.sql\", \"w\") as sql_file:\n",
    "    # Create table SQL\n",
    "    create_table_query = f\"CREATE TABLE {table_name} (\\n\"\n",
    "    for column in df.columns:\n",
    "        if column in varchar_columns:\n",
    "            create_table_query += f\"    `{column}` VARCHAR(255),\\n\"\n",
    "        else:\n",
    "            create_table_query += f\"    `{column}` INT,\\n\"\n",
    "    create_table_query = create_table_query.rstrip(\",\\n\") + \"\\n);\\n\\n\"\n",
    "    sql_file.write(create_table_query)\n",
    "\n",
    "    # Insert data SQL\n",
    "    for _, row in df.iterrows():\n",
    "        values = \", \".join(\n",
    "            [\n",
    "                f\"'{str(value).replace('\\'', '\\\\\\'')}'\" if col in varchar_columns else str(value) if pd.notna(value) else \"NULL\"\n",
    "                for col, value in zip(df.columns, row)\n",
    "            ]\n",
    "        )\n",
    "        insert_query = f\"INSERT INTO {table_name} VALUES ({values});\\n\"\n",
    "        sql_file.write(insert_query)\n",
    "\n",
    "print(\"SQL file 'output.sql' generated successfully!\")"
   ]
  }
 ],
 "metadata": {
  "kernelspec": {
   "display_name": "myenv",
   "language": "python",
   "name": "python3"
  },
  "language_info": {
   "codemirror_mode": {
    "name": "ipython",
    "version": 3
   },
   "file_extension": ".py",
   "mimetype": "text/x-python",
   "name": "python",
   "nbconvert_exporter": "python",
   "pygments_lexer": "ipython3",
   "version": "3.12.6"
  }
 },
 "nbformat": 4,
 "nbformat_minor": 2
}
